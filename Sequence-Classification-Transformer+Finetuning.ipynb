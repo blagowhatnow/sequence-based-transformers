{
 "cells": [
  {
   "cell_type": "code",
   "execution_count": 21,
   "id": "d9bf9ed3",
   "metadata": {},
   "outputs": [],
   "source": [
    "#Written with help of ChatGPT\n",
    "\n",
    "import numpy as np\n",
    "from keras.layers import Dense, Dropout, Layer, LayerNormalization, MultiHeadAttention, GlobalAveragePooling1D, Input, Masking\n",
    "from keras.models import Model, load_model\n",
    "from sklearn.model_selection import train_test_split\n",
    "\n",
    "# Define amino acid vocabulary\n",
    "amino_acids = 'ACDEFGHIKLMNPQRSTVWY'  # 20 standard amino acids\n",
    "vocab_size = len(amino_acids)\n",
    "aa_to_index = {aa: i for i, aa in enumerate(amino_acids)}\n",
    "\n",
    "# Transformer Block\n",
    "class TransformerBlock(Layer):\n",
    "    def __init__(self, embed_dim, num_heads, ff_dim, rate=0.1, **kwargs):\n",
    "        super(TransformerBlock, self).__init__(**kwargs)\n",
    "        self.embed_dim = embed_dim\n",
    "        self.num_heads = num_heads\n",
    "        self.ff_dim = ff_dim\n",
    "        self.rate = rate\n",
    "\n",
    "        self.att = MultiHeadAttention(num_heads=num_heads, key_dim=embed_dim)\n",
    "        self.ffn = keras.Sequential(\n",
    "            [Dense(ff_dim, activation=\"relu\"), Dense(embed_dim)]\n",
    "        )\n",
    "        self.layernorm1 = LayerNormalization(epsilon=1e-6)\n",
    "        self.layernorm2 = LayerNormalization(epsilon=1e-6)\n",
    "        self.dropout1 = Dropout(rate)\n",
    "        self.dropout2 = Dropout(rate)\n",
    "\n",
    "    def call(self, inputs, training):\n",
    "        attn_output = self.att(inputs, inputs)\n",
    "        attn_output = self.dropout1(attn_output, training=training)\n",
    "        out1 = self.layernorm1(inputs + attn_output)\n",
    "        ffn_output = self.ffn(out1)\n",
    "        ffn_output = self.dropout2(ffn_output, training=training)\n",
    "        return self.layernorm2(out1 + ffn_output)\n",
    "\n",
    "    def get_config(self):\n",
    "        config = super(TransformerBlock, self).get_config()\n",
    "        config.update({\n",
    "            'embed_dim': self.embed_dim,\n",
    "            'num_heads': self.num_heads,\n",
    "            'ff_dim': self.ff_dim,\n",
    "            'rate': self.rate,\n",
    "        })\n",
    "        return config\n",
    "\n",
    "# Function to one-hot encode peptide sequences\n",
    "def one_hot_encode_sequences(sequences, vocab_size):\n",
    "    max_length = max(len(seq) for seq in sequences)  # Get maximum length\n",
    "    encoded = np.zeros((len(sequences), max_length, vocab_size))\n",
    "    for i, seq in enumerate(sequences):\n",
    "        for j, aa in enumerate(seq):\n",
    "            encoded[i, j, aa_to_index[aa]] = 1\n",
    "    return encoded\n",
    "\n",
    "# Sample peptide sequences (with variable lengths)\n",
    "peptide_sequences = ['ARG', 'TC', 'G', 'CDEF', 'HIKLMN', 'PQR', 'STVWY']  # Example peptide sequences\n",
    "targets = np.random.randint(0, 2, len(peptide_sequences))  # Random binary targets (0 or 1)\n",
    "\n",
    "# One-hot encode the peptide sequences\n",
    "encoded_sequences = one_hot_encode_sequences(peptide_sequences, vocab_size)\n",
    "\n",
    "# Train/test split\n",
    "X_train, X_test, y_train, y_test = train_test_split(encoded_sequences, targets, test_size=0.2, random_state=42)\n",
    "\n",
    "# Model Creation\n",
    "def create_model(embed_dim, num_heads, ff_dim, vocab_size, input_length):\n",
    "    inputs = Input(shape=(None, vocab_size))  # Variable length input\n",
    "    x = Dense(embed_dim)(inputs)  # Project input to embed_dim\n",
    "    transformer_block = TransformerBlock(embed_dim, num_heads, ff_dim)\n",
    "    x = transformer_block(x)\n",
    "    x = GlobalAveragePooling1D()(x)\n",
    "    x = Dropout(0.1)(x)\n",
    "    x = Dense(20, activation=\"relu\")(x)\n",
    "    x = Dropout(0.1)(x)\n",
    "    outputs = Dense(1, activation=\"sigmoid\")(x)\n",
    "    model = Model(inputs=inputs, outputs=outputs)\n",
    "    return model"
   ]
  },
  {
   "cell_type": "code",
   "execution_count": 23,
   "id": "9650863d",
   "metadata": {},
   "outputs": [
    {
     "name": "stdout",
     "output_type": "stream",
     "text": [
      "Epoch 1/5\n",
      "1/1 [==============================] - 2s 2s/step - loss: 0.8024 - accuracy: 0.0000e+00 - val_loss: 0.3503 - val_accuracy: 1.0000\n",
      "Epoch 2/5\n",
      "1/1 [==============================] - 0s 36ms/step - loss: 0.6525 - accuracy: 0.6000 - val_loss: 0.3607 - val_accuracy: 1.0000\n",
      "Epoch 3/5\n",
      "1/1 [==============================] - 0s 49ms/step - loss: 0.4834 - accuracy: 0.8000 - val_loss: 0.4394 - val_accuracy: 0.5000\n",
      "Epoch 4/5\n",
      "1/1 [==============================] - 0s 39ms/step - loss: 0.5940 - accuracy: 0.8000 - val_loss: 0.5542 - val_accuracy: 0.5000\n",
      "Epoch 5/5\n",
      "1/1 [==============================] - 0s 45ms/step - loss: 0.5558 - accuracy: 0.4000 - val_loss: 0.6053 - val_accuracy: 0.5000\n"
     ]
    },
    {
     "data": {
      "text/plain": [
       "<keras.callbacks.History at 0x7fb928d5b9d0>"
      ]
     },
     "execution_count": 23,
     "metadata": {},
     "output_type": "execute_result"
    }
   ],
   "source": [
    "# Model parameters\n",
    "embed_dim = 32  # Embedding size for each token\n",
    "num_heads = 2  # Number of attention heads\n",
    "ff_dim = 32  # Hidden layer size in the feed-forward network\n",
    "\n",
    "# Create and compile the model\n",
    "model = create_model(embed_dim, num_heads, ff_dim, vocab_size, None)\n",
    "model.compile(optimizer='Adam', loss=\"binary_crossentropy\", metrics=[\"accuracy\"])\n",
    "\n",
    "# Train the model\n",
    "model.fit(X_train, y_train, validation_data=(X_test, y_test), epochs=5, batch_size=8)"
   ]
  },
  {
   "cell_type": "code",
   "execution_count": 24,
   "id": "80ee2900",
   "metadata": {},
   "outputs": [],
   "source": [
    "model.save(\"peptide_transformer_model.h5\")"
   ]
  },
  {
   "cell_type": "code",
   "execution_count": 25,
   "id": "84554972",
   "metadata": {},
   "outputs": [],
   "source": [
    "# Load the model\n",
    "loaded_model = load_model(\"peptide_transformer_model.h5\", custom_objects={\"TransformerBlock\": TransformerBlock})"
   ]
  },
  {
   "cell_type": "code",
   "execution_count": 26,
   "id": "c45379de",
   "metadata": {},
   "outputs": [
    {
     "name": "stdout",
     "output_type": "stream",
     "text": [
      "Epoch 1/5\n",
      "1/1 [==============================] - 1s 1s/step - loss: 0.9096 - accuracy: 0.5000 - val_loss: 0.4322 - val_accuracy: 1.0000\n",
      "Epoch 2/5\n",
      "1/1 [==============================] - 0s 42ms/step - loss: 0.7825 - accuracy: 0.5000 - val_loss: 0.4230 - val_accuracy: 1.0000\n",
      "Epoch 3/5\n",
      "1/1 [==============================] - 0s 51ms/step - loss: 0.5302 - accuracy: 0.7500 - val_loss: 0.4176 - val_accuracy: 1.0000\n",
      "Epoch 4/5\n",
      "1/1 [==============================] - 0s 42ms/step - loss: 0.4770 - accuracy: 0.7500 - val_loss: 0.4185 - val_accuracy: 1.0000\n",
      "Epoch 5/5\n",
      "1/1 [==============================] - 0s 37ms/step - loss: 0.5424 - accuracy: 1.0000 - val_loss: 0.4231 - val_accuracy: 1.0000\n"
     ]
    },
    {
     "data": {
      "text/plain": [
       "<keras.callbacks.History at 0x7fb928d1aa00>"
      ]
     },
     "execution_count": 26,
     "metadata": {},
     "output_type": "execute_result"
    }
   ],
   "source": [
    "# Fine-tune the model on a new dataset\n",
    "new_peptide_sequences = ['AR', 'GTC', 'F', 'DE', 'HIK']  # New sequences\n",
    "new_targets = np.random.randint(0, 2, len(new_peptide_sequences))  # New targets\n",
    "\n",
    "# One-hot encode new sequences\n",
    "new_encoded_sequences = one_hot_encode_sequences(new_peptide_sequences, vocab_size)\n",
    "\n",
    "# Train/test split for new data\n",
    "X_train_new, X_test_new, y_train_new, y_test_new = train_test_split(new_encoded_sequences, new_targets, test_size=0.2, random_state=42)\n",
    "\n",
    "# Fine-tune on the new data\n",
    "loaded_model.fit(X_train_new, y_train_new, validation_data=(X_test_new, y_test_new), epochs=5, batch_size=8)"
   ]
  }
 ],
 "metadata": {
  "kernelspec": {
   "display_name": "Python 3 (ipykernel)",
   "language": "python",
   "name": "python3"
  },
  "language_info": {
   "codemirror_mode": {
    "name": "ipython",
    "version": 3
   },
   "file_extension": ".py",
   "mimetype": "text/x-python",
   "name": "python",
   "nbconvert_exporter": "python",
   "pygments_lexer": "ipython3",
   "version": "3.9.16"
  }
 },
 "nbformat": 4,
 "nbformat_minor": 5
}
