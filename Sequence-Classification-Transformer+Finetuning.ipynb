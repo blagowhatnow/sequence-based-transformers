{
 "cells": [
  {
   "cell_type": "code",
   "execution_count": 1,
   "id": "d9bf9ed3",
   "metadata": {},
   "outputs": [
    {
     "name": "stderr",
     "output_type": "stream",
     "text": [
      "2024-09-25 00:51:12.466568: I tensorflow/core/platform/cpu_feature_guard.cc:142] This TensorFlow binary is optimized with oneAPI Deep Neural Network Library (oneDNN) to use the following CPU instructions in performance-critical operations:  AVX2 FMA\n",
      "To enable them in other operations, rebuild TensorFlow with the appropriate compiler flags.\n"
     ]
    }
   ],
   "source": [
    "import numpy as np\n",
    "import keras\n",
    "import tensorflow as tf\n",
    "from tensorflow.keras import layers\n",
    "from keras.layers import Dense, Dropout, Layer, LayerNormalization, MultiHeadAttention, GlobalAveragePooling1D, Input\n",
    "from keras.models import Model, load_model\n",
    "from sklearn.model_selection import train_test_split\n",
    "\n",
    "# Define amino acid vocabulary\n",
    "amino_acids = 'ACDEFGHIKLMNPQRSTVWY'  # 20 standard amino acids\n",
    "vocab_size = len(amino_acids)\n",
    "aa_to_index = {aa: i for i, aa in enumerate(amino_acids)}\n",
    "\n",
    "# Function to one-hot encode peptide sequences\n",
    "def one_hot_encode_sequences(sequences, vocab_size):\n",
    "    max_length = max(len(seq) for seq in sequences)  # Get maximum length for padding\n",
    "    encoded = np.zeros((len(sequences), max_length, vocab_size))\n",
    "    for i, seq in enumerate(sequences):\n",
    "        for j, aa in enumerate(seq):\n",
    "            encoded[i, j, aa_to_index[aa]] = 1\n",
    "    return encoded\n",
    "\n",
    "# Sample peptide sequences (with variable lengths)\n",
    "peptide_sequences = ['ARG', 'TC', 'G', 'CDEF', 'HIKLMN', 'PQR', 'STVWY']  # Example peptide sequences\n",
    "targets = np.random.randint(0, 2, len(peptide_sequences))  # Random binary targets (0 or 1)\n",
    "\n",
    "# One-hot encode the peptide sequences\n",
    "encoded_sequences = one_hot_encode_sequences(peptide_sequences, vocab_size)\n",
    "\n",
    "# Train/test split\n",
    "X_train, X_test, y_train, y_test = train_test_split(encoded_sequences, targets, test_size=0.2, random_state=42)\n",
    "\n",
    "# Transformer Block\n",
    "class TransformerBlock(Layer):\n",
    "    def __init__(self, embed_dim, num_heads, ff_dim, rate=0.1, **kwargs):\n",
    "        super(TransformerBlock, self).__init__(**kwargs)\n",
    "        self.embed_dim = embed_dim\n",
    "        self.num_heads = num_heads\n",
    "        self.ff_dim = ff_dim\n",
    "        self.rate = rate\n",
    "\n",
    "        self.att = MultiHeadAttention(num_heads=num_heads, key_dim=embed_dim)\n",
    "        self.ffn = keras.Sequential(\n",
    "            [Dense(ff_dim, activation=\"relu\"), Dense(embed_dim)]\n",
    "        )\n",
    "        self.layernorm1 = LayerNormalization(epsilon=1e-6)\n",
    "        self.layernorm2 = LayerNormalization(epsilon=1e-6)\n",
    "        self.dropout1 = Dropout(rate)\n",
    "        self.dropout2 = Dropout(rate)\n",
    "\n",
    "    def call(self, inputs, training):\n",
    "        attn_output = self.att(inputs, inputs)\n",
    "        attn_output = self.dropout1(attn_output, training=training)\n",
    "        out1 = self.layernorm1(inputs + attn_output)\n",
    "        ffn_output = self.ffn(out1)\n",
    "        ffn_output = self.dropout2(ffn_output, training=training)\n",
    "        return self.layernorm2(out1 + ffn_output)\n",
    "\n",
    "    def get_config(self):\n",
    "        config = super(TransformerBlock, self).get_config()\n",
    "        config.update({\n",
    "            'embed_dim': self.embed_dim,\n",
    "            'num_heads': self.num_heads,\n",
    "            'ff_dim': self.ff_dim,\n",
    "            'rate': self.rate,\n",
    "        })\n",
    "        return config\n",
    "\n",
    "# Token and position embedding layer\n",
    "class TokenAndPositionEmbedding(layers.Layer):\n",
    "    def __init__(self, vocab_size, embed_dim, **kwargs):\n",
    "        super(TokenAndPositionEmbedding, self).__init__(**kwargs)\n",
    "        self.token_emb = layers.Embedding(input_dim=vocab_size, output_dim=embed_dim)\n",
    "\n",
    "    def call(self, x):\n",
    "        # x is one-hot encoded input\n",
    "        batch_size, max_length, vocab_size = tf.shape(x)[0], tf.shape(x)[1], tf.shape(x)[2]\n",
    "\n",
    "        # Get token embeddings by summing over the last dimension (one-hot)\n",
    "        token_indices = tf.argmax(x, axis=-1)  # Get the indices from the one-hot encoding\n",
    "        token_embeddings = self.token_emb(token_indices)  # Get embeddings\n",
    "\n",
    "        # Create positional embeddings\n",
    "        positions = tf.range(start=0, limit=max_length, delta=1)\n",
    "        pos_embeddings = self.token_emb(positions)  # Using the same embedding for positions\n",
    "\n",
    "        # Add token and positional embeddings\n",
    "        return token_embeddings + pos_embeddings[:max_length, :]  # Only take up to max_length positions\n",
    "\n",
    "    def get_config(self):\n",
    "        config = super(TokenAndPositionEmbedding, self).get_config()\n",
    "        config.update({\n",
    "            'vocab_size': self.token_emb.input_dim,\n",
    "            'embed_dim': self.token_emb.output_dim,\n",
    "        })\n",
    "        return config\n",
    "\n",
    "# Model Creation\n",
    "def create_model(embed_dim, num_heads, ff_dim, vocab_size):\n",
    "    inputs = Input(shape=(None, vocab_size))  # Variable length input\n",
    "    x = TokenAndPositionEmbedding(vocab_size, embed_dim)(inputs)  # Apply token and position embedding\n",
    "    transformer_block = TransformerBlock(embed_dim, num_heads, ff_dim)\n",
    "    x = transformer_block(x)\n",
    "    x = GlobalAveragePooling1D()(x)\n",
    "    x = Dropout(0.1)(x)\n",
    "    x = Dense(20, activation=\"relu\")(x)\n",
    "    x = Dropout(0.1)(x)\n",
    "    outputs = Dense(1, activation=\"sigmoid\")(x)\n",
    "    model = Model(inputs=inputs, outputs=outputs)\n",
    "    return model\n",
    "\n",
    "# Create and compile the model\n",
    "model = create_model(embed_dim=64, num_heads=4, ff_dim=128, vocab_size=vocab_size)\n",
    "model.compile(optimizer='adam', loss='binary_crossentropy', metrics=['accuracy'])"
   ]
  },
  {
   "cell_type": "code",
   "execution_count": 2,
   "id": "df68b2c3",
   "metadata": {},
   "outputs": [
    {
     "name": "stdout",
     "output_type": "stream",
     "text": [
      "Model: \"model\"\n",
      "_________________________________________________________________\n",
      "Layer (type)                 Output Shape              Param #   \n",
      "=================================================================\n",
      "input_1 (InputLayer)         [(None, None, 20)]        0         \n",
      "_________________________________________________________________\n",
      "token_and_position_embedding (None, None, 64)          1280      \n",
      "_________________________________________________________________\n",
      "transformer_block (Transform (None, None, 64)          83200     \n",
      "_________________________________________________________________\n",
      "global_average_pooling1d (Gl (None, 64)                0         \n",
      "_________________________________________________________________\n",
      "dropout_2 (Dropout)          (None, 64)                0         \n",
      "_________________________________________________________________\n",
      "dense_2 (Dense)              (None, 20)                1300      \n",
      "_________________________________________________________________\n",
      "dropout_3 (Dropout)          (None, 20)                0         \n",
      "_________________________________________________________________\n",
      "dense_3 (Dense)              (None, 1)                 21        \n",
      "=================================================================\n",
      "Total params: 85,801\n",
      "Trainable params: 85,801\n",
      "Non-trainable params: 0\n",
      "_________________________________________________________________\n"
     ]
    }
   ],
   "source": [
    "model.summary()"
   ]
  },
  {
   "cell_type": "code",
   "execution_count": 3,
   "id": "9650863d",
   "metadata": {},
   "outputs": [
    {
     "name": "stderr",
     "output_type": "stream",
     "text": [
      "2024-09-25 00:51:17.185266: I tensorflow/compiler/mlir/mlir_graph_optimization_pass.cc:185] None of the MLIR Optimization Passes are enabled (registered 2)\n"
     ]
    },
    {
     "name": "stdout",
     "output_type": "stream",
     "text": [
      "Epoch 1/5\n",
      "1/1 [==============================] - 3s 3s/step - loss: 0.8216 - accuracy: 0.6000 - val_loss: 0.6819 - val_accuracy: 1.0000\n",
      "Epoch 2/5\n",
      "1/1 [==============================] - 0s 38ms/step - loss: 0.7290 - accuracy: 0.4000 - val_loss: 0.7326 - val_accuracy: 0.5000\n",
      "Epoch 3/5\n",
      "1/1 [==============================] - 0s 42ms/step - loss: 0.4858 - accuracy: 0.8000 - val_loss: 0.7907 - val_accuracy: 0.5000\n",
      "Epoch 4/5\n",
      "1/1 [==============================] - 0s 51ms/step - loss: 0.4560 - accuracy: 0.8000 - val_loss: 0.8096 - val_accuracy: 0.5000\n",
      "Epoch 5/5\n",
      "1/1 [==============================] - 0s 40ms/step - loss: 0.6356 - accuracy: 0.6000 - val_loss: 0.7173 - val_accuracy: 0.5000\n"
     ]
    },
    {
     "data": {
      "text/plain": [
       "<keras.callbacks.History at 0x7f8b668064c0>"
      ]
     },
     "execution_count": 3,
     "metadata": {},
     "output_type": "execute_result"
    }
   ],
   "source": [
    "# Model parameters\n",
    "embed_dim = 32  # Embedding size for each token\n",
    "num_heads = 2  # Number of attention heads\n",
    "ff_dim = 32  # Hidden layer size in the feed-forward network\n",
    "\n",
    "# Create and compile the model\n",
    "model.compile(optimizer='Adam', loss=\"binary_crossentropy\", metrics=[\"accuracy\"])\n",
    "\n",
    "# Train the model\n",
    "model.fit(X_train, y_train, validation_data=(X_test, y_test), epochs=5, batch_size=8)"
   ]
  },
  {
   "cell_type": "code",
   "execution_count": 4,
   "id": "80ee2900",
   "metadata": {},
   "outputs": [],
   "source": [
    "model.save(\"peptide_transformer_model.h5\")"
   ]
  },
  {
   "cell_type": "code",
   "execution_count": 5,
   "id": "84554972",
   "metadata": {},
   "outputs": [],
   "source": [
    "#Load model\n",
    "\n",
    "loaded_model = load_model(\"peptide_transformer_model.h5\", custom_objects={\n",
    "    \"TransformerBlock\": TransformerBlock,\n",
    "    \"TokenAndPositionEmbedding\": TokenAndPositionEmbedding\n",
    "})\n",
    "\n",
    "# Optionally freeze Transformer Block layer for finetuning. \n",
    "#Could be applied to the name-generator model as well\n",
    "\n",
    "for layer in loaded_model.layers:\n",
    "    if isinstance(layer, TransformerBlock) or isinstance(layer, TokenAndPositionEmbedding):\n",
    "        layer.trainable = False "
   ]
  },
  {
   "cell_type": "code",
   "execution_count": 6,
   "id": "c45379de",
   "metadata": {},
   "outputs": [
    {
     "name": "stdout",
     "output_type": "stream",
     "text": [
      "Epoch 1/5\n",
      "1/1 [==============================] - 2s 2s/step - loss: 0.4361 - accuracy: 0.7500 - val_loss: 0.6240 - val_accuracy: 1.0000\n",
      "Epoch 2/5\n",
      "1/1 [==============================] - 0s 45ms/step - loss: 0.8170 - accuracy: 0.5000 - val_loss: 0.6253 - val_accuracy: 1.0000\n",
      "Epoch 3/5\n",
      "1/1 [==============================] - 0s 45ms/step - loss: 0.5689 - accuracy: 1.0000 - val_loss: 0.6266 - val_accuracy: 1.0000\n",
      "Epoch 4/5\n",
      "1/1 [==============================] - 0s 40ms/step - loss: 0.6314 - accuracy: 0.5000 - val_loss: 0.6278 - val_accuracy: 1.0000\n",
      "Epoch 5/5\n",
      "1/1 [==============================] - 0s 43ms/step - loss: 0.5484 - accuracy: 0.7500 - val_loss: 0.6287 - val_accuracy: 1.0000\n"
     ]
    },
    {
     "data": {
      "text/plain": [
       "<keras.callbacks.History at 0x7f8b5dccb4c0>"
      ]
     },
     "execution_count": 6,
     "metadata": {},
     "output_type": "execute_result"
    }
   ],
   "source": [
    "from keras.callbacks import LearningRateScheduler\n",
    "\n",
    "# Fine-tune the model on a new dataset\n",
    "new_peptide_sequences = ['AR', 'GTC', 'F', 'DE', 'HIK']  # New sequences\n",
    "new_targets = np.random.randint(0, 2, len(new_peptide_sequences))  # New targets\n",
    "\n",
    "# One-hot encode new sequences\n",
    "new_encoded_sequences = one_hot_encode_sequences(new_peptide_sequences, vocab_size)\n",
    "\n",
    "# Train/test split for new data\n",
    "X_train_new, X_test_new, y_train_new, y_test_new = train_test_split(new_encoded_sequences, new_targets, test_size=0.2, random_state=42)\n",
    "\n",
    "# Define a function that returns the desired learning rate\n",
    "def scheduler(epoch, lr):\n",
    "    # Set a constant low learning rate for finetuning\n",
    "    return 0.0001\n",
    "\n",
    "# Create the learning rate scheduler callback\n",
    "lr_scheduler = LearningRateScheduler(scheduler)\n",
    "\n",
    "# Compile your model with 'Adam' as optimizer\n",
    "loaded_model.compile(optimizer='Adam', loss='binary_crossentropy', metrics=['accuracy'])\n",
    "\n",
    "# Fit the model with the learning rate scheduler callback\n",
    "loaded_model.fit(X_train_new, y_train_new, validation_data=(X_test_new, y_test_new), \n",
    "                 epochs=5, batch_size=8, callbacks=[lr_scheduler])"
   ]
  }
 ],
 "metadata": {
  "kernelspec": {
   "display_name": "Python 3 (ipykernel)",
   "language": "python",
   "name": "python3"
  },
  "language_info": {
   "codemirror_mode": {
    "name": "ipython",
    "version": 3
   },
   "file_extension": ".py",
   "mimetype": "text/x-python",
   "name": "python",
   "nbconvert_exporter": "python",
   "pygments_lexer": "ipython3",
   "version": "3.9.16"
  }
 },
 "nbformat": 4,
 "nbformat_minor": 5
}
