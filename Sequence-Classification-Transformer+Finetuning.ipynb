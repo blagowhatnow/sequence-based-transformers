{
 "cells": [
  {
   "cell_type": "code",
   "execution_count": 1,
   "id": "8c1a118f",
   "metadata": {},
   "outputs": [],
   "source": [
    "#Antimicrobial peptide classification example(yet again)\n",
    "#Data from : https://github.com/zhanglabNKU/APIN/blob/master/\n",
    "\n",
    "\n",
    "import Bio\n",
    "import numpy as np\n",
    "import matplotlib.pyplot as plt"
   ]
  },
  {
   "cell_type": "code",
   "execution_count": 2,
   "id": "d9bf9ed3",
   "metadata": {},
   "outputs": [],
   "source": [
    "import numpy as np\n",
    "import keras\n",
    "import tensorflow as tf\n",
    "from tensorflow.keras import layers, Sequential\n",
    "from keras.layers import Dense, Dropout, Embedding, Layer, LayerNormalization, MultiHeadAttention, GlobalAveragePooling1D, Input\n",
    "from keras.models import Model, load_model\n",
    "from sklearn.model_selection import train_test_split\n",
    "from Bio import SeqIO\n",
    "\n",
    "# Sample peptide sequences (with variable lengths)\n",
    "amps_tr=[]\n",
    "amps_te=[]\n",
    "amps_val=[]\n",
    "decoy_tr=[]\n",
    "decoy_te=[]\n",
    "decoy_val=[]\n",
    "\n",
    "y_tr=[]\n",
    "y_te=[]\n",
    "y_val=[]\n",
    "\n",
    "\n",
    "for sequence in SeqIO.parse('AMP.tr.fa', \"fasta\"):\n",
    "    amps_tr.append(str(sequence.seq))\n",
    "    y_tr.append(1)\n",
    "    \n",
    "for sequence in SeqIO.parse('AMP.te.fa', \"fasta\"):\n",
    "    amps_te.append(str(sequence.seq))\n",
    "    y_te.append(1)    \n",
    "    \n",
    "for sequence in SeqIO.parse('AMP.eval.fa', \"fasta\"):\n",
    "    amps_val.append(str(sequence.seq))\n",
    "    y_val.append(1)    \n",
    "    \n",
    "for sequence in SeqIO.parse('DECOY.tr.fa', \"fasta\"):\n",
    "    decoy_tr.append(str(sequence.seq))\n",
    "    y_tr.append(0)\n",
    "\n",
    "for sequence in SeqIO.parse('DECOY.te.fa', \"fasta\"):\n",
    "    decoy_te.append(str(sequence.seq))\n",
    "    y_te.append(0)    \n",
    "\n",
    "for sequence in SeqIO.parse('DECOY.eval.fa', \"fasta\"):\n",
    "    decoy_val.append(str(sequence.seq))\n",
    "    y_val.append(0)    \n",
    "    \n",
    "amps_tr.extend(decoy_tr)\n",
    "amps_tr.extend(amps_te)\n",
    "amps_tr.extend(decoy_te)\n",
    "amps_tr.extend(amps_val)\n",
    "amps_tr.extend(decoy_val)\n",
    "\n",
    "y_tr.extend(y_te)\n",
    "y_tr.extend(y_val)\n",
    "\n",
    "X=amps_tr\n",
    "y=y_tr\n",
    "\n",
    "peptide_sequences=list(X)\n",
    "targets=list(y)"
   ]
  },
  {
   "cell_type": "code",
   "execution_count": 3,
   "id": "0f5a6d5d",
   "metadata": {},
   "outputs": [],
   "source": [
    "# Define amino acid vocabulary\n",
    "amino_acids = 'ACDEFGHIKLMNPQRSTVWY'  # 20 standard amino acids\n",
    "vocab_size = len(amino_acids)\n",
    "aa_to_index = {aa: i for i, aa in enumerate(amino_acids)}\n",
    "\n",
    "# Function to one-hot encode peptide sequences\n",
    "max_sequence_length = max([len(i) for i in peptide_sequences])  # Set this to the maximum sequence length during training\n",
    "\n",
    "# Updated one-hot encoding function with padding\n",
    "def one_hot_encode_sequences(sequences, max_length):\n",
    "    # Initialize an array with zeros for one-hot encoding\n",
    "    encoded = np.zeros((len(sequences), max_length, vocab_size), dtype=int)\n",
    "    \n",
    "    for i, seq in enumerate(sequences):\n",
    "        for j, aa in enumerate(seq):\n",
    "            if j >= max_length:  # Avoid exceeding the max length\n",
    "                break\n",
    "            if aa in aa_to_index:  # Ensure the amino acid is valid\n",
    "                encoded[i, j, aa_to_index[aa]] = 1\n",
    "            else:\n",
    "                raise ValueError(f\"Invalid amino acid '{aa}' found in sequence '{seq}'.\")\n",
    "\n",
    "    return encoded"
   ]
  },
  {
   "cell_type": "code",
   "execution_count": 4,
   "id": "c43f59ae",
   "metadata": {},
   "outputs": [],
   "source": [
    "# Example peptide sequences\n",
    "encoded_sequences = one_hot_encode_sequences(peptide_sequences, max_sequence_length)"
   ]
  },
  {
   "cell_type": "code",
   "execution_count": 5,
   "id": "0721942c",
   "metadata": {},
   "outputs": [],
   "source": [
    "# Train/test split\n",
    "X_train, X_test, y_train, y_test = train_test_split(encoded_sequences, targets, test_size=0.2, random_state=42)"
   ]
  },
  {
   "cell_type": "code",
   "execution_count": 6,
   "id": "c84f0acf",
   "metadata": {},
   "outputs": [],
   "source": [
    "X_train = np.array(X_train)\n",
    "X_test = np.array(X_test)\n",
    "y_train = np.array(y_train)\n",
    "y_test = np.array(y_test)"
   ]
  },
  {
   "cell_type": "code",
   "execution_count": 35,
   "id": "8c0f1c8d",
   "metadata": {},
   "outputs": [],
   "source": [
    "import tensorflow as tf\n",
    "from tensorflow.keras import layers, Model, Input\n",
    "\n",
    "# Transformer Block remains unchanged\n",
    "class TransformerBlock(Layer):\n",
    "    def __init__(self, embed_dim, num_heads, ff_dim, rate=0.1, **kwargs):\n",
    "        super(TransformerBlock, self).__init__(**kwargs)\n",
    "        self.embed_dim = embed_dim\n",
    "        self.num_heads = num_heads\n",
    "        self.ff_dim = ff_dim\n",
    "        self.rate = rate\n",
    "\n",
    "        self.att = MultiHeadAttention(num_heads=num_heads, key_dim=embed_dim)\n",
    "        self.ffn = keras.Sequential(\n",
    "            [Dense(ff_dim, activation=\"relu\"), Dense(embed_dim)]\n",
    "        )\n",
    "        self.layernorm1 = LayerNormalization(epsilon=1e-6)\n",
    "        self.layernorm2 = LayerNormalization(epsilon=1e-6)\n",
    "        self.dropout1 = Dropout(rate)\n",
    "        self.dropout2 = Dropout(rate)\n",
    "\n",
    "    def call(self, inputs, training):\n",
    "        attn_output = self.att(inputs, inputs)\n",
    "        attn_output = self.dropout1(attn_output, training=training)\n",
    "        out1 = self.layernorm1(inputs + attn_output)\n",
    "        ffn_output = self.ffn(out1)\n",
    "        ffn_output = self.dropout2(ffn_output, training=training)\n",
    "        return self.layernorm2(out1 + ffn_output)\n",
    "\n",
    "    def get_config(self):\n",
    "        config = super(TransformerBlock, self).get_config()\n",
    "        config.update({\n",
    "            'embed_dim': self.embed_dim,\n",
    "            'num_heads': self.num_heads,\n",
    "            'ff_dim': self.ff_dim,\n",
    "            'rate': self.rate,\n",
    "        })\n",
    "        return config\n",
    "\n",
    "# Model Creation without TokenAndPositionEmbedding\n",
    "def create_model(embed_dim, num_heads, ff_dim, vocab_size, max_length=183):\n",
    "    inputs = Input(shape=(max_length, vocab_size))  # Fixed max_length input\n",
    "    # Directly create the embedding layer\n",
    "    token_emb = layers.Embedding(input_dim=vocab_size, output_dim=embed_dim)(tf.argmax(inputs, axis=-1))\n",
    "    # Create positional encodings\n",
    "    positions = tf.range(start=0, limit=max_length)\n",
    "    position_emb = layers.Embedding(input_dim=max_length, output_dim=embed_dim)(positions)\n",
    "    \n",
    "    # Combine token and positional embeddings\n",
    "    x = token_emb + position_emb  # Broadcasting the positional embedding\n",
    "\n",
    "    # Pass through the transformer block\n",
    "    transformer_block = TransformerBlock(embed_dim, num_heads, ff_dim)\n",
    "    x = transformer_block(x)\n",
    "    x = layers.GlobalAveragePooling1D()(x)\n",
    "    x = layers.Dropout(0.1)(x)\n",
    "    x = layers.Dense(20, activation=\"relu\")(x)\n",
    "    x = layers.Dropout(0.1)(x)\n",
    "    outputs = layers.Dense(1, activation=\"sigmoid\")(x)\n",
    "    model = Model(inputs=inputs, outputs=outputs)\n",
    "    return model"
   ]
  },
  {
   "cell_type": "code",
   "execution_count": 41,
   "id": "9650863d",
   "metadata": {
    "scrolled": false
   },
   "outputs": [
    {
     "name": "stdout",
     "output_type": "stream",
     "text": [
      "Epoch 1/5\n",
      "356/356 [==============================] - 67s 183ms/step - loss: 0.5418 - accuracy: 0.6906 - val_loss: 0.3324 - val_accuracy: 0.8722\n",
      "Epoch 2/5\n",
      "356/356 [==============================] - 66s 186ms/step - loss: 0.3363 - accuracy: 0.8695 - val_loss: 0.3142 - val_accuracy: 0.8820\n",
      "Epoch 3/5\n",
      "356/356 [==============================] - 82s 231ms/step - loss: 0.3279 - accuracy: 0.8748 - val_loss: 0.2972 - val_accuracy: 0.8919\n",
      "Epoch 4/5\n",
      "356/356 [==============================] - 63s 177ms/step - loss: 0.3321 - accuracy: 0.8748 - val_loss: 0.2852 - val_accuracy: 0.8890\n",
      "Epoch 5/5\n",
      "356/356 [==============================] - 56s 155ms/step - loss: 0.3178 - accuracy: 0.8801 - val_loss: 0.2971 - val_accuracy: 0.8904\n"
     ]
    }
   ],
   "source": [
    "# Model parameters\n",
    "embed_dim = 32  # Embedding size for each token\n",
    "num_heads = 2  # Number of attention heads\n",
    "ff_dim = 32  # Hidden layer size in the feed-forward network\n",
    "\n",
    "# Create and compile the model\n",
    "model = create_model(embed_dim=64, num_heads=4, ff_dim=128, vocab_size=vocab_size)\n",
    "model.compile(optimizer='Adam', loss=\"binary_crossentropy\", metrics=[\"accuracy\"])\n",
    "\n",
    "# Train the model\n",
    "history = model.fit(X_train, y_train, validation_data=(X_test, y_test), epochs=5, batch_size=8)"
   ]
  },
  {
   "cell_type": "code",
   "execution_count": 42,
   "id": "dc8653aa",
   "metadata": {},
   "outputs": [
    {
     "data": {
      "image/png": "[encoded data removed]",
      "text/plain": [
       "<Figure size 640x480 with 1 Axes>"
      ]
     },
     "metadata": {},
     "output_type": "display_data"
    }
   ],
   "source": [
    "# Plotting the training loss and validation loss\n",
    "plt.plot(history.history['loss'], label='Training Loss')\n",
    "if 'val_loss' in history.history:\n",
    "    plt.plot(history.history['val_loss'], label='Validation Loss')\n",
    "\n",
    "plt.title('Loss Over Epochs')\n",
    "plt.xlabel('Epochs')\n",
    "plt.ylabel('Loss')\n",
    "plt.legend()\n",
    "plt.show()"
   ]
  },
  {
   "cell_type": "code",
   "execution_count": 43,
   "id": "332d98ac",
   "metadata": {},
   "outputs": [
    {
     "name": "stdout",
     "output_type": "stream",
     "text": [
      "23/23 [==============================] - 4s 140ms/step - loss: 0.2971 - accuracy: 0.8904\n"
     ]
    }
   ],
   "source": [
    "test_loss, test_accuracy = model.evaluate(X_test, y_test)"
   ]
  },
  {
   "cell_type": "code",
   "execution_count": 44,
   "id": "db72310e",
   "metadata": {},
   "outputs": [
    {
     "name": "stdout",
     "output_type": "stream",
     "text": [
      "Test accuracy: 89.04%\n"
     ]
    }
   ],
   "source": [
    "print('Test accuracy: '+ str((round((test_accuracy)*100,2)))+'%')"
   ]
  },
  {
   "cell_type": "code",
   "execution_count": 47,
   "id": "76417adf",
   "metadata": {},
   "outputs": [
    {
     "name": "stdout",
     "output_type": "stream",
     "text": [
      "Prediction probability: [[0.88548964]]\n"
     ]
    }
   ],
   "source": [
    "# Example new sequence for prediction\n",
    "new_sequence = ['ACDEFGHIKCA']  # Your new sequence to predict on\n",
    "\n",
    "# One-hot encode the new sequence with padding to max_sequence_length\n",
    "encoded_new_sequence = one_hot_encode_sequences(new_sequence, max_sequence_length)\n",
    "\n",
    "# Make prediction (the model expects a batch of sequences)\n",
    "prediction = model.predict(encoded_new_sequence)\n",
    "\n",
    "# Print the prediction result\n",
    "print(\"Prediction probability:\", prediction)"
   ]
  },
  {
   "cell_type": "code",
   "execution_count": 53,
   "id": "52b174be",
   "metadata": {},
   "outputs": [
    {
     "name": "stdout",
     "output_type": "stream",
     "text": [
      "Binary prediction: [[1]]\n"
     ]
    }
   ],
   "source": [
    "binary_prediction = (prediction >= 0.5).astype(int)\n",
    "\n",
    "print(\"Binary prediction:\", binary_prediction)"
   ]
  },
  {
   "cell_type": "code",
   "execution_count": 48,
   "id": "80ee2900",
   "metadata": {},
   "outputs": [],
   "source": [
    "model.save(\"peptide_transformer_model.h5\")"
   ]
  },
  {
   "cell_type": "code",
   "execution_count": 50,
   "id": "84554972",
   "metadata": {},
   "outputs": [],
   "source": [
    "#Load model\n",
    "\n",
    "loaded_model = load_model(\"peptide_transformer_model.h5\", custom_objects={\n",
    "    \"TransformerBlock\": TransformerBlock,\n",
    "})\n",
    "\n",
    "# Optionally freeze Transformer Block layer for finetuning. \n",
    "#Could be applied to the name-generator model as well\n",
    "\n",
    "for layer in loaded_model.layers:\n",
    "    if isinstance(layer, TransformerBlock):\n",
    "        layer.trainable = False "
   ]
  },
  {
   "cell_type": "code",
   "execution_count": 52,
   "id": "c45379de",
   "metadata": {},
   "outputs": [
    {
     "name": "stdout",
     "output_type": "stream",
     "text": [
      "Epoch 1/5\n",
      "1/1 [==============================] - 3s 3s/step - loss: 0.3803 - accuracy: 0.7500 - val_loss: 0.0640 - val_accuracy: 1.0000\n",
      "Epoch 2/5\n",
      "1/1 [==============================] - 0s 102ms/step - loss: 0.4223 - accuracy: 0.7500 - val_loss: 0.0648 - val_accuracy: 1.0000\n",
      "Epoch 3/5\n",
      "1/1 [==============================] - 0s 87ms/step - loss: 0.4054 - accuracy: 0.7500 - val_loss: 0.0661 - val_accuracy: 1.0000\n",
      "Epoch 4/5\n",
      "1/1 [==============================] - 0s 92ms/step - loss: 0.3914 - accuracy: 0.7500 - val_loss: 0.0671 - val_accuracy: 1.0000\n",
      "Epoch 5/5\n",
      "1/1 [==============================] - 0s 100ms/step - loss: 0.4525 - accuracy: 0.7500 - val_loss: 0.0677 - val_accuracy: 1.0000\n"
     ]
    },
    {
     "data": {
      "text/plain": [
       "<keras.callbacks.History at 0x7fee9a412970>"
      ]
     },
     "execution_count": 52,
     "metadata": {},
     "output_type": "execute_result"
    }
   ],
   "source": [
    "from keras.callbacks import LearningRateScheduler\n",
    "\n",
    "# Fine-tune the model on a new dataset(This is just for demonstration)\n",
    "\n",
    "new_peptide_sequences = ['AR', 'GTC', 'F', 'DE', 'HIK']  # New sequences\n",
    "new_targets = np.random.randint(0, 2, len(new_peptide_sequences))  # New targets\n",
    "\n",
    "# One-hot encode new sequences\n",
    "new_encoded_sequences = one_hot_encode_sequences(new_peptide_sequences, max_sequence_length)\n",
    "\n",
    "# Train/test split for new data\n",
    "X_train_new, X_test_new, y_train_new, y_test_new = train_test_split(new_encoded_sequences, new_targets, test_size=0.2, random_state=42)\n",
    "\n",
    "# Define a function that returns the desired learning rate\n",
    "def scheduler(epoch, lr):\n",
    "    # Set a constant low learning rate for finetuning\n",
    "    return 0.0001\n",
    "\n",
    "# Create the learning rate scheduler callback\n",
    "lr_scheduler = LearningRateScheduler(scheduler)\n",
    "\n",
    "# Compile your model with 'Adam' as optimizer\n",
    "loaded_model.compile(optimizer='Adam', loss='binary_crossentropy', metrics=['accuracy'])\n",
    "\n",
    "# Fit the model with the learning rate scheduler callback\n",
    "loaded_model.fit(X_train_new, y_train_new, validation_data=(X_test_new, y_test_new), \n",
    "                 epochs=5, batch_size=8, callbacks=[lr_scheduler])"
   ]
  }
 ],
 "metadata": {
  "kernelspec": {
   "display_name": "Python 3 (ipykernel)",
   "language": "python",
   "name": "python3"
  },
  "language_info": {
   "codemirror_mode": {
    "name": "ipython",
    "version": 3
   },
   "file_extension": ".py",
   "mimetype": "text/x-python",
   "name": "python",
   "nbconvert_exporter": "python",
   "pygments_lexer": "ipython3",
   "version": "3.9.16"
  }
 },
 "nbformat": 4,
 "nbformat_minor": 5
}
